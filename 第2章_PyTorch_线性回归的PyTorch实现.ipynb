{
 "cells": [
  {
   "cell_type": "markdown",
   "id": "loved-northern",
   "metadata": {},
   "source": [
    "# 线性回归的PyTorch实现"
   ]
  },
  {
   "cell_type": "code",
   "execution_count": 1,
   "id": "broken-display",
   "metadata": {},
   "outputs": [],
   "source": [
    "import torch\n",
    "import torchvision\n",
    "from torch import nn\n",
    "from torch import optim\n",
    "import matplotlib.pyplot as plt\n",
    "plt.rcParams['font.sans-serif'] = ['SimHei']    #显示中文\n",
    "plt.rcParams['axes.unicode_minus']=False        #用来正常显示负号"
   ]
  },
  {
   "cell_type": "markdown",
   "id": "turkish-brown",
   "metadata": {},
   "source": [
    "### 1.数据集"
   ]
  },
  {
   "cell_type": "code",
   "execution_count": 2,
   "id": "identical-study",
   "metadata": {},
   "outputs": [
    {
     "name": "stdout",
     "output_type": "stream",
     "text": [
      "torch.Size([50, 1])\n",
      "torch.Size([50, 1])\n"
     ]
    },
    {
     "data": {
      "image/png": "[encoded data removed]",
      "text/plain": [
       "<Figure size 432x288 with 1 Axes>"
      ]
     },
     "metadata": {
      "needs_background": "light"
     },
     "output_type": "display_data"
    }
   ],
   "source": [
    "#构造数据集y = 3x + 10，后面加上torch.randn()函数制造噪声\n",
    "x = torch.unsqueeze(torch.linspace(-1, 1, 50), dim = 1)\n",
    "y = 3 * x + 10 + 0.5 * torch.randn(x.size())\n",
    "print(x.size())\n",
    "print(y.size())\n",
    "plt.scatter(x,y)\n",
    "plt.show()"
   ]
  },
  {
   "cell_type": "markdown",
   "id": "alpine-organizer",
   "metadata": {},
   "source": [
    "### 2.模型定义"
   ]
  },
  {
   "cell_type": "code",
   "execution_count": 3,
   "id": "japanese-reward",
   "metadata": {},
   "outputs": [],
   "source": [
    "#定义线性回归模型\n",
    "class LinearRegression(nn.Module):\n",
    "    def __init__(self):\n",
    "        super(LinearRegression, self).__init__()\n",
    "        self.fc = nn.Linear(1, 1)\n",
    "    \n",
    "    def forward(self, x):\n",
    "        out = self.fc(x)\n",
    "        return out\n",
    "    \n",
    "model = LinearRegression()"
   ]
  },
  {
   "cell_type": "code",
   "execution_count": 4,
   "id": "disturbed-niagara",
   "metadata": {},
   "outputs": [],
   "source": [
    "#定义损失函数和优化函数\n",
    "criterion = nn.MSELoss()\n",
    "optimizer = optim.SGD(model.parameters(), lr = 5e-3)"
   ]
  },
  {
   "cell_type": "markdown",
   "id": "resident-statistics",
   "metadata": {},
   "source": [
    "### 3.模型训练"
   ]
  },
  {
   "cell_type": "code",
   "execution_count": 5,
   "id": "productive-nitrogen",
   "metadata": {},
   "outputs": [
    {
     "name": "stdout",
     "output_type": "stream",
     "text": [
      "Epoch[20/1000], loss: 82.273201\n",
      "Epoch[40/1000], loss: 55.363750\n",
      "Epoch[60/1000], loss: 37.328217\n",
      "Epoch[80/1000], loss: 25.233475\n",
      "Epoch[100/1000], loss: 17.116770\n",
      "Epoch[120/1000], loss: 11.664607\n",
      "Epoch[140/1000], loss: 7.997840\n",
      "Epoch[160/1000], loss: 5.527968\n",
      "Epoch[180/1000], loss: 3.860983\n",
      "Epoch[200/1000], loss: 2.733017\n",
      "Epoch[220/1000], loss: 1.967301\n",
      "Epoch[240/1000], loss: 1.445365\n",
      "Epoch[260/1000], loss: 1.087768\n",
      "Epoch[280/1000], loss: 0.841209\n",
      "Epoch[300/1000], loss: 0.669875\n",
      "Epoch[320/1000], loss: 0.549700\n",
      "Epoch[340/1000], loss: 0.464469\n",
      "Epoch[360/1000], loss: 0.403242\n",
      "Epoch[380/1000], loss: 0.358620\n",
      "Epoch[400/1000], loss: 0.325581\n",
      "Epoch[420/1000], loss: 0.300704\n",
      "Epoch[440/1000], loss: 0.281647\n",
      "Epoch[460/1000], loss: 0.266799\n",
      "Epoch[480/1000], loss: 0.255038\n",
      "Epoch[500/1000], loss: 0.245580\n",
      "Epoch[520/1000], loss: 0.237867\n",
      "Epoch[540/1000], loss: 0.231503\n",
      "Epoch[560/1000], loss: 0.226198\n",
      "Epoch[580/1000], loss: 0.221736\n",
      "Epoch[600/1000], loss: 0.217958\n",
      "Epoch[620/1000], loss: 0.214739\n",
      "Epoch[640/1000], loss: 0.211985\n",
      "Epoch[660/1000], loss: 0.209619\n",
      "Epoch[680/1000], loss: 0.207581\n",
      "Epoch[700/1000], loss: 0.205821\n",
      "Epoch[720/1000], loss: 0.204299\n",
      "Epoch[740/1000], loss: 0.202981\n",
      "Epoch[760/1000], loss: 0.201839\n",
      "Epoch[780/1000], loss: 0.200847\n",
      "Epoch[800/1000], loss: 0.199986\n",
      "Epoch[820/1000], loss: 0.199237\n",
      "Epoch[840/1000], loss: 0.198587\n",
      "Epoch[860/1000], loss: 0.198022\n",
      "Epoch[880/1000], loss: 0.197531\n",
      "Epoch[900/1000], loss: 0.197103\n",
      "Epoch[920/1000], loss: 0.196731\n",
      "Epoch[940/1000], loss: 0.196408\n",
      "Epoch[960/1000], loss: 0.196126\n",
      "Epoch[980/1000], loss: 0.195881\n",
      "Epoch[1000/1000], loss: 0.195669\n"
     ]
    }
   ],
   "source": [
    "num_epochs = 1000                  #遍历整个训练集的次数\n",
    "for epoch in range(num_epochs):\n",
    "    #forward\n",
    "    out = model(x)                 #前向传播\n",
    "    loss = criterion(out, y)       #计算损失函数\n",
    "    #backward\n",
    "    optimizer.zero_grad()          #梯度归零\n",
    "    loss.backward()                #反向传播\n",
    "    optimizer.step()               #更新参数\n",
    "    \n",
    "    if (epoch+1) % 20 == 0:\n",
    "        print('Epoch[{}/{}], loss: {:.6f}'.format(epoch+1, num_epochs, loss.detach().numpy()))"
   ]
  },
  {
   "cell_type": "markdown",
   "id": "desperate-radio",
   "metadata": {},
   "source": [
    "### 3.模型测试"
   ]
  },
  {
   "cell_type": "code",
   "execution_count": 6,
   "id": "opposite-pointer",
   "metadata": {
    "scrolled": true
   },
   "outputs": [
    {
     "data": {
      "image/png": "[encoded data removed]",
      "text/plain": [
       "<Figure size 432x288 with 1 Axes>"
      ]
     },
     "metadata": {
      "needs_background": "light"
     },
     "output_type": "display_data"
    }
   ],
   "source": [
    "model.eval()              #进入预测评估模式\n",
    "y_hat = model(x)\n",
    "plt.scatter(x.numpy(), y.numpy(), label = '原始数据')\n",
    "plt.plot(x.numpy(), y_hat.detach().numpy(), c= 'r', label = '拟合直线')   #.detach()用于停止对张量的梯度跟踪\n",
    "#显示图例\n",
    "plt.legend()\n",
    "plt.show()"
   ]
  },
  {
   "cell_type": "code",
   "execution_count": 7,
   "id": "broken-arkansas",
   "metadata": {},
   "outputs": [
    {
     "data": {
      "text/plain": [
       "[('fc.weight',\n",
       "  Parameter containing:\n",
       "  tensor([[2.8202]], requires_grad=True)),\n",
       " ('fc.bias',\n",
       "  Parameter containing:\n",
       "  tensor([9.9472], requires_grad=True))]"
      ]
     },
     "execution_count": 7,
     "metadata": {},
     "output_type": "execute_result"
    }
   ],
   "source": [
    "#查看拟合直线的训练参数\n",
    "list(model.named_parameters())"
   ]
  }
 ],
 "metadata": {
  "kernelspec": {
   "display_name": "Python 3",
   "language": "python",
   "name": "python3"
  },
  "language_info": {
   "codemirror_mode": {
    "name": "ipython",
    "version": 3
   },
   "file_extension": ".py",
   "mimetype": "text/x-python",
   "name": "python",
   "nbconvert_exporter": "python",
   "pygments_lexer": "ipython3",
   "version": "3.7.9"
  }
 },
 "nbformat": 4,
 "nbformat_minor": 5
}
